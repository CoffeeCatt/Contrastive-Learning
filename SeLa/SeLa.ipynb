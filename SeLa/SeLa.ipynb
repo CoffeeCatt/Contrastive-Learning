{
 "cells": [
  {
   "cell_type": "markdown",
   "id": "9d3f74e8",
   "metadata": {},
   "source": [
    "Maximizing the information between entropy minimization to an optimal transport problem.\n",
    "\n",
    "Solve with Sinkhorn-Knopp algorithm.\n",
    "\n",
    "image x--network--> $h\\circ \\phi(x)$, $h$:classification head, $\\phi$: extract features.\n",
    "\n",
    "If supervise:\n",
    "$$\\mathbb{E}(p|y_1,\\cdots, y_{N})=-\\frac{1}{N}\\sum \\log p(y_i|x_i).$$\n",
    "\n",
    "Self-labelling:\n",
    "label: posterior distribution $q(y|x_i)$\n",
    "\n",
    "$$\\mathbb{E}(p,q)=-\\frac{1}{N}\\sum q(y|x_i)\\log p(y|x_i).$$\n",
    "\n",
    "Optimizing $q$ is the same as reassigning the labels, which leads to the degeneracy. To avoid this, we add the equalpartition constraint:\n",
    "\n",
    "$$\\min_{p,q}\\mathbb{E}(p,q), s.t., \\forall y: q(y|x_i)\\in \\{0,1\\}, \\text{and} \\sum_i q(y|x_i)=N/K.$$ (K classes, N datapoints).\n",
    "\n",
    "Optimal transport problem:\n",
    "$$U=\\{Q|Q_{yi}=q(y|x_i)\\frac{1}{N}, Q\\mathbb{1}=\\frac{1}{K}\\mathbb{1}, Q^\\top \\mathbb{1}=\\frac{1}{N}\\mathbb{1}.\\}$$\n",
    "Each category has $N/K$ images, each image belongs to one category.\n",
    "\n",
    "Equivalent to \n",
    "$$\\min_{Q\\in U(r,c)}\\langle Q,-\\log P\\rangle.$$\n",
    "\n",
    "polynomial time--> faster version: Sinkhorn-Knopp:\n",
    "$$\\min_{Q\\in U(r,c)}\\langle Q,-\\log P\\rangle+\\frac{1}{\\lambda}\\text{KL}(Q||rc^\\top)$$\n",
    "\n",
    "Large $\\lambda$--> equivalent to original\n",
    "tradeoff convergence speed with closeness to the original transport problem.\n",
    "\n",
    "Interpretation:\n",
    "\n",
    "maximizing $E(p,q)$ is the same as maximizing the MI between the label and the data index.\n",
    "\n",
    "Compare with DeepCluster:\n",
    "\n",
    "To avoid degeneration, DeepCluster updates two objective function iteratively.\n",
    "\n",
    "Here, both steps optimize the same objective."
   ]
  }
 ],
 "metadata": {
  "kernelspec": {
   "display_name": "Python 3",
   "language": "python",
   "name": "python3"
  },
  "language_info": {
   "codemirror_mode": {
    "name": "ipython",
    "version": 3
   },
   "file_extension": ".py",
   "mimetype": "text/x-python",
   "name": "python",
   "nbconvert_exporter": "python",
   "pygments_lexer": "ipython3",
   "version": "3.6.9"
  }
 },
 "nbformat": 4,
 "nbformat_minor": 5
}
