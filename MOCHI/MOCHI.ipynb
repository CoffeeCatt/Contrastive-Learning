{
 "cells": [
  {
   "cell_type": "markdown",
   "metadata": {},
   "source": [
    "Most of the memory negatives are practically not helping a lot towards learning the proxy task.\n",
    "\n",
    "Mixing the hardest negatives.\n",
    "\n",
    "Keep N<K(memory size) negative queue, and linear combine negatives from N negatives.\n",
    "\n",
    "Mixing for even harder negatives.\n",
    "\n",
    "Mixing query with negatives.\n",
    "\n",
    "$h_k =\\beta_k q +(1-\\beta_k)n_j, \\beta \\in (0,0.5)$ "
   ]
  }
 ],
 "metadata": {
  "kernelspec": {
   "display_name": "Python 3",
   "language": "python",
   "name": "python3"
  },
  "language_info": {
   "codemirror_mode": {
    "name": "ipython",
    "version": 3
   },
   "file_extension": ".py",
   "mimetype": "text/x-python",
   "name": "python",
   "nbconvert_exporter": "python",
   "pygments_lexer": "ipython3",
   "version": "3.6.9"
  }
 },
 "nbformat": 4,
 "nbformat_minor": 2
}
