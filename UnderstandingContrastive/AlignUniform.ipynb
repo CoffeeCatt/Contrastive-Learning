{
 "cells": [
  {
   "cell_type": "markdown",
   "metadata": {},
   "source": [
    "Alignment: between postive pairs:\n",
    "        \n",
    "$$L_{\\text{align}}(f;\\alpha)=\\mathbb{E}_{(x,y)\\sim P_{\\text{pos}}}\\|f(x)-f(y)\\|_2^\\alpha, \\alpha>0$$\n",
    "\n",
    "Uniformity:\n",
    "\n",
    "$$L_{\\text{uniform}}\\log \\mathbb{E}_{(x,y \\sim p_{\\text{data}})}\\left[e^{-t\\|f(x)-f(y)\\|_2^2}\\right], t>0.$$\n",
    "\n",
    "- Theorem\n",
    "\n",
    "For $M(S^d)$ the set of Borel probability measures on $S^d$, $\\sigma_d$ (normalized surface area measure on $S^d$) is the unique solution of\n",
    "$$\\min_{\\mu\\in M(S^d)}\\int_u\\int_v G_t(u,v)d_\\mu d_\\mu.$$\n",
    "\n",
    "Loss function: weighted sum of alignment + uniformity"
   ]
  },
  {
   "cell_type": "code",
   "execution_count": null,
   "metadata": {},
   "outputs": [],
   "source": []
  }
 ],
 "metadata": {
  "kernelspec": {
   "display_name": "Python 3",
   "language": "python",
   "name": "python3"
  },
  "language_info": {
   "codemirror_mode": {
    "name": "ipython",
    "version": 3
   },
   "file_extension": ".py",
   "mimetype": "text/x-python",
   "name": "python",
   "nbconvert_exporter": "python",
   "pygments_lexer": "ipython3",
   "version": "3.6.9"
  }
 },
 "nbformat": 4,
 "nbformat_minor": 2
}
