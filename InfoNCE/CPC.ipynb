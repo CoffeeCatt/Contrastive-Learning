{
 "cells": [
  {
   "cell_type": "markdown",
   "metadata": {},
   "source": [
    "Model a density ratio which preserves the MI between $x_t$ and $c_t$.\n",
    "\n",
    "Derivation:\n",
    "\n",
    "\\begin{align}\n",
    "&-\\mathbb{E}\\left[\\log\\frac{f(x_i,c_i)}{\\sum_{j=1}^N f(x_j,c_i)}\\right]\\\\\n",
    "=&-\\mathbb{E}\\left[\\log \\frac{\\frac{p(x_i|c_i)}{p(x_i)}}{\\sum_{j\\neq i}{\\frac{p(x_j|c_i)}{p(x_j)}+\\frac{p(x_i|c_i)}{p(x_i)}}}\\right]\\\\\n",
    "=&\\mathbb{E}\\left[\\log \\left(1+\\frac{p(x_i)}{p(x_i|c_i)}\\mathbb{E}_{x_j}\\frac{p(x_j|c_i)}{p(x_j)}\\right)\\right]\\\\\n",
    "=&\\mathbb{E}\\left[\\log\\left(1+\\frac{p(x_i)}{p(x_i|c_i)}(N-1)\\right)\\right]\\\\\n",
    "\\geq & \\mathbb{E}\\left[\\log \\frac{p(x_i)}{p(x_i|c_i)}N\\right]\\\\\n",
    "=& -I(x_i, c_i)+\\log N\n",
    "\\end{align}"
   ]
  },
  {
   "cell_type": "markdown",
   "metadata": {},
   "source": [
    "Relation with MINE:\n",
    "\n",
    "\\begin{align}\n",
    "&\\mathbb{E}_x\\left[\\log\\frac{f(x,c)}{\\sum_{x_j\\in X} f(x_j,c)}\\right]\\\\\n",
    "=&\\mathbb{E}_{x,c}[F(x,c)]-\\mathbb{E}_c\\left[\\log \\sum_{x_j\\in X} e^{F(x_j,c)}+e^{F(x,c)}\\right]\\\\\n",
    "\\leq &\\mathbb{E}_{x,c}[F(x,c)]-\\mathbb{E}_c\\left[\\log\\sum_{x_{\\text{neg}}} e^{F(x_{\\text{neg},c})}\\right]\\\\\n",
    "=&\\mathbb{E}_{x,c}[F(x,c)]-\\mathbb{E}_c\\left[\\log \\frac{1}{N-1}\\sum_{x_{\\text{neg}}} e^{F({x_{\\text{neg}}},c)}+ \\log(N-1)\\right]\n",
    "\\end{align}\n",
    "the last line is MINE with additional constant $\\log(N-1)$.\n",
    "\n",
    "MINE: joint distribution vs marginal distributions.\n",
    "\n",
    "here: positive pair vs negative pairs."
   ]
  }
 ],
 "metadata": {
  "kernelspec": {
   "display_name": "Python 3",
   "language": "python",
   "name": "python3"
  },
  "language_info": {
   "codemirror_mode": {
    "name": "ipython",
    "version": 3
   },
   "file_extension": ".py",
   "mimetype": "text/x-python",
   "name": "python",
   "nbconvert_exporter": "python",
   "pygments_lexer": "ipython3",
   "version": "3.6.9"
  }
 },
 "nbformat": 4,
 "nbformat_minor": 2
}
